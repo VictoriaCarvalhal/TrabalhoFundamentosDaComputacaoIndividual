{
  "nbformat": 4,
  "nbformat_minor": 0,
  "metadata": {
    "colab": {
      "provenance": [],
      "authorship_tag": "ABX9TyOfhrl4KQW638T/ypdTpPWx",
      "include_colab_link": true
    },
    "kernelspec": {
      "name": "python3",
      "display_name": "Python 3"
    },
    "language_info": {
      "name": "python"
    }
  },
  "cells": [
    {
      "cell_type": "markdown",
      "metadata": {
        "id": "view-in-github",
        "colab_type": "text"
      },
      "source": [
        "<a href=\"https://colab.research.google.com/github/VictoriaCarvalhal/TrabalhoFundamentosDaComputacaoIndividual/blob/main/TrabalhoValendoNotaFundamentosDaComputa%C3%A7%C3%A3o.ipynb\" target=\"_parent\"><img src=\"https://colab.research.google.com/assets/colab-badge.svg\" alt=\"Open In Colab\"/></a>"
      ]
    },
    {
      "cell_type": "markdown",
      "source": [
        "# Trabalho de Fundamentos da Computação Individual\n",
        "## Feito por Victória Tavares Carvalhal\n",
        "### Exercícios:"
      ],
      "metadata": {
        "id": "GCzBu2dsOZHl"
      }
    },
    {
      "cell_type": "markdown",
      "source": [
        "####1.   Encontrando o Maior Número em um Vetor:\n",
        "> Maria ama colecionar cartas de Pokémon. Ela tem um álbum com várias cartas, e ela quer encontrar a carta mais rara e valiosa de sua coleção. Cada carta tem um valor associado, e ela decidiu armazenar esses valores em um vetor chamado cartas. Ajude Maria a escrever um programa em Python que encontre o valor da carta mais valiosa do seu álbum.\n",
        "\n",
        "Resposta:\n",
        "\n"
      ],
      "metadata": {
        "id": "NICQMujqL2Na"
      }
    },
    {
      "cell_type": "code",
      "execution_count": null,
      "metadata": {
        "id": "5f4CYQn4LDYp",
        "colab": {
          "base_uri": "https://localhost:8080/"
        },
        "outputId": "505a04ff-d9ed-41af-f56f-c12954c008e5"
      },
      "outputs": [
        {
          "output_type": "stream",
          "name": "stdout",
          "text": [
            "Quantidade de cartas que maria possui: 4\n",
            "Valor da 1 carta de maria: 100\n",
            "Valor da 2 carta de maria: -150\n",
            "Valor da 3 carta de maria: 30\n",
            "Valor da 4 carta de maria: 4\n",
            "A carta mais valiosa é a carta numero 1\n"
          ]
        }
      ],
      "source": [
        "Cartas = []\n",
        "CartaMaisValiosa = ValorMaior = 0\n",
        "NumeroDeCartas = int(input(\"Quantidade de cartas que maria possui: \"))\n",
        "for i in range(0,NumeroDeCartas):\n",
        "    Cartas.append(int(input(\"Valor da {:d} carta de maria: \".format(i+1))))\n",
        "    if(ValorMaior<Cartas[i]):\n",
        "        ValorMaior = Cartas[i]\n",
        "        CartaMaisValiosa = Cartas.index(ValorMaior)\n",
        "print(\"A carta mais valiosa é a carta numero {:d}\".format(CartaMaisValiosa+1))"
      ]
    },
    {
      "cell_type": "markdown",
      "source": [
        "####2. Média de Pontuações de Jogos de Video Game\n",
        "> João é um gamer ávido e gosta de acompanhar seu desempenho em diferentes\n",
        "jogos de videogame. Ele criou um vetor chamado pontuações para armazenar suas\n",
        "pontuações mais altas em jogos populares. Ajude João a escrever um programa em\n",
        "Python que calcule sua média de pontuações de jogos.\n",
        "\n",
        "Resposta:\n",
        "\n"
      ],
      "metadata": {
        "id": "a56Dl69hNoeO"
      }
    },
    {
      "cell_type": "code",
      "source": [
        "Pontuacoes = []\n",
        "soma = cont = media = 0\n",
        "NumeroDeJogos = int(input(\"Numero de jogos que João jogou: \"))\n",
        "for i in range(0,NumeroDeJogos):\n",
        "    Pontuacoes.append(int(input(\"Pontuação do jogo numero {:d}: \".format(i+1))))\n",
        "    soma += Pontuacoes[i]\n",
        "    cont += 1\n",
        "media = soma/cont\n",
        "print(\"A media das pontuações é: {:.2f}\".format(media))"
      ],
      "metadata": {
        "colab": {
          "base_uri": "https://localhost:8080/"
        },
        "id": "o3fF4LftN-5G",
        "outputId": "88810f61-d7c1-409b-e05e-248c19839685"
      },
      "execution_count": null,
      "outputs": [
        {
          "output_type": "stream",
          "name": "stdout",
          "text": [
            "Numero de jogos que João jogou: 4\n",
            "Pontuação do jogo numero 1: 30\n",
            "Pontuação do jogo numero 2: 50\n",
            "Pontuação do jogo numero 3: 100\n",
            "Pontuação do jogo numero 4: 50\n",
            "A media das pontuações é: 57.50\n"
          ]
        }
      ]
    },
    {
      "cell_type": "markdown",
      "source": [
        "####3.Pontuações de Jogos de RPG\n",
        "> José é um fã de jogos de RPG(Role-Playing Games) e adora registrar as\n",
        "pontuações de seus personagens em cada sessão de jogo. Ele decidiu criar uma\n",
        "matriz chamada pontuacoes_personagens para armazenar as pontuações de seus\n",
        "personagens em diferentes atributos, como força, destreza, magia, etc. Ajude José a escrever um programa em Python que calcule a média das pontuações de seus personagens em cada atributo.\n",
        "\n",
        "Resposta:\n",
        "\n"
      ],
      "metadata": {
        "id": "1r1MvC3WOOxQ"
      }
    },
    {
      "cell_type": "code",
      "source": [
        "pontuacoes_personagens = []\n",
        "linha = int(input(\"Quantos atributos os personagens possuem: \"))\n",
        "print(\"Numero de atributos: \",linha)\n",
        "coluna = int(input(\"Quantos personagens ele possui: \"))\n",
        "print(\"Numero de personagens: \",coluna)\n",
        "atributo = []\n",
        "personagens = []\n",
        "media = []\n",
        "soma = cont = 0\n",
        "for i in range(0,linha):\n",
        "    atributo.append(str(input(\"{:d} Atributo: \".format(i+1))))\n",
        "    print(\"Atributo {:d} é: {:s}\".format(i+1,atributo[i]))\n",
        "for j in range(0, coluna):\n",
        "    personagens.append(str(input(\"{:d} Nome do Personagem: \".format(j+1))))\n",
        "    print(\"Persoangem {:d} é: {:s}\".format(j+1, personagens[j]))\n",
        "for i in range(0,linha):\n",
        "    a = []\n",
        "    for j in range(0,coluna):\n",
        "        a.append(int(input(\"Atributo {:s} do Personagem {:s}: \".format(atributo[i],personagens[j]))))\n",
        "    pontuacoes_personagens.append(a)\n",
        "for i in range(0,linha):\n",
        "    for j in range(0,coluna):\n",
        "        soma += pontuacoes_personagens[i][j]\n",
        "        cont += 1\n",
        "    media.append(soma//cont)\n",
        "    soma = 0\n",
        "    cont = soma\n",
        "    print(\"Media do atributo {:s}: {:.2f}\".format(atributo[i],media[i]))"
      ],
      "metadata": {
        "colab": {
          "base_uri": "https://localhost:8080/"
        },
        "id": "v5CMwrNlO0Ox",
        "outputId": "40847f78-aed1-4e49-c0f6-3a9e288beadd"
      },
      "execution_count": null,
      "outputs": [
        {
          "output_type": "stream",
          "name": "stdout",
          "text": [
            "Quantos atributos os personagens possuem: 2\n",
            "Numero de atributos:  2\n",
            "Quantos personagens ele possui: 2\n",
            "Numero de personagens:  2\n",
            "1 Atributo: forca\n",
            "Atributo 1 é: forca\n",
            "2 Atributo: destreza\n",
            "Atributo 2 é: destreza\n",
            "1 Nome do Personagem: julia\n",
            "Persoangem 1 é: julia\n",
            "2 Nome do Personagem: artur\n",
            "Persoangem 2 é: artur\n",
            "Atributo forca do Personagem julia: 20\n",
            "Atributo forca do Personagem artur: 5\n",
            "Atributo destreza do Personagem julia: 30\n",
            "Atributo destreza do Personagem artur: 30\n",
            "Media do atributo forca: 12.00\n",
            "Media do atributo destreza: 30.00\n"
          ]
        }
      ]
    },
    {
      "cell_type": "markdown",
      "source": [],
      "metadata": {
        "id": "o9XBiGncPM12"
      }
    },
    {
      "cell_type": "markdown",
      "source": [
        "####4. A Matriz Identidade de um Portal Intergaláctico\n",
        "> Em uma galáxia distante, a tripulação da nave espacial \"Exploradora Galáctica\" descobriu um portal intergaláctico misterioso. Para navegar com segurança por esse portal e explorar novos mundos, eles precisam de um código especial.A capitã da nave, Maria, recebeu informações de que o código é uma \"Matriz Identidade Intergaláctica\". Essa matriz é única e só contém zeros e uns. Maria pediu a ajuda do cientista, Pedro, para verificar se a matriz que eles possuem é realmente a \"Matriz Identidade Intergaláctica\" antes de se aventurarem pelo portal. A matriz que eles possuem é representada em Python como matriz_portal e eles precisam verificar se ela atende aos critérios da Matriz Identidade Intergaláctica.\n",
        "\n",
        "Resposta:\n",
        "\n"
      ],
      "metadata": {
        "id": "fVuRqG4SPPV_"
      }
    },
    {
      "cell_type": "code",
      "source": [
        "print(\"Disponibilize a matriz que a tripulação possui: \")\n",
        "identidade = True\n",
        "parar = False\n",
        "linha = int(input(\"Numero de linhas:\"))\n",
        "coluna = int(input(\"Numero de colunas:\"))\n",
        "if(linha == 0 or coluna == 0):\n",
        "    identidade = False\n",
        "elif(linha == coluna):\n",
        "    matriz = []\n",
        "    for i in range(0,linha):\n",
        "        a = []\n",
        "        for j in range(0,coluna):\n",
        "            a.append(int(input(\"Escreva o valor da [{:d}][{:d}]: \".format(i,j))))\n",
        "        matriz.append(a)\n",
        "    for i in range(0,linha):\n",
        "        for j in range(0,linha):\n",
        "            print(f'[{matriz[i][j]:^5}]',end='')\n",
        "        print()\n",
        "    for i in range(0,linha):\n",
        "        if(parar):\n",
        "            break\n",
        "        for j in range(0,coluna):\n",
        "            if(i==j):\n",
        "                if(matriz[i][j]!=1):\n",
        "                    identidade = False\n",
        "                    parar = True\n",
        "                    break\n",
        "            else:\n",
        "                if(matriz[i][j]!=0):\n",
        "                    identidade = False\n",
        "                    parar = True\n",
        "                    break\n",
        "else:\n",
        "    identidade = False\n",
        "if(identidade):\n",
        "    print(\"Essa matriz é uma matriz identidade intergaláctica. Será possível fazer a viagem em segurança!\")\n",
        "else:\n",
        "    print(\"Essa matriz não é uma matriz identidade intergalactica. Será impossível fazer a viagem...\")"
      ],
      "metadata": {
        "id": "f2Xj9oZ8Pvl5"
      },
      "execution_count": null,
      "outputs": []
    }
  ]
}